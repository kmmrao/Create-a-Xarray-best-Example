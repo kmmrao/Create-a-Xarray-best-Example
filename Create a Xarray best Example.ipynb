{
 "cells": [
  {
   "cell_type": "code",
   "execution_count": 45,
   "id": "2a4a06ed",
   "metadata": {},
   "outputs": [
    {
     "name": "stdout",
     "output_type": "stream",
     "text": [
      "G:\\Data\\Unused\\GPM IMERG Early Precipitation L3 1 day 0.1 degree x 0.1 degree V06 (GPM_3IMERGDE)_Global\n"
     ]
    }
   ],
   "source": [
    "cd G:\\Data\\Unused\\GPM IMERG Early Precipitation L3 1 day 0.1 degree x 0.1 degree V06 (GPM_3IMERGDE)_Global"
   ]
  },
  {
   "cell_type": "code",
   "execution_count": 46,
   "id": "8893327c",
   "metadata": {},
   "outputs": [],
   "source": [
    "import numpy as np\n",
    "import pandas as pd\n",
    "import matplotlib.pyplot as plt\n",
    "from netCDF4 import Dataset"
   ]
  },
  {
   "cell_type": "code",
   "execution_count": 3,
   "id": "41370ef5",
   "metadata": {},
   "outputs": [],
   "source": [
    "import xarray as xr\n",
    "import rioxarray as rx\n",
    "import numpy as np"
   ]
  },
  {
   "cell_type": "code",
   "execution_count": 181,
   "id": "8902545e",
   "metadata": {},
   "outputs": [],
   "source": [
    "hq2002 = np.load('hq_precip_2002.npz')"
   ]
  },
  {
   "cell_type": "code",
   "execution_count": 182,
   "id": "695020da",
   "metadata": {},
   "outputs": [
    {
     "data": {
      "text/plain": [
       "['hq_precip', 'lon', 'lat', 'dates']"
      ]
     },
     "execution_count": 182,
     "metadata": {},
     "output_type": "execute_result"
    }
   ],
   "source": [
    "hq2002.files"
   ]
  },
  {
   "cell_type": "code",
   "execution_count": 1,
   "id": "dd2e00a9",
   "metadata": {},
   "outputs": [],
   "source": [
    "hq_precip2002 = hq2002['hq_precip']\n",
    "lat = hq2002['lat']\n",
    "lon = hq2002['lon']\n",
    "dates = hq2002['dates']\n",
    "hq2002.close()"
   ]
  },
  {
   "cell_type": "code",
   "execution_count": 167,
   "id": "14b2c401",
   "metadata": {},
   "outputs": [],
   "source": [
    "hq_pre_xr_2002 = xr.Dataset(\n",
    "    data_vars={\"HQprecipitation\": ((\"time\",\"lat\",\"lon\",),hq_precip2002)\n",
    "              },\n",
    "    coords = {\"lat\":((\"lat\"),lat,),\n",
    "              \"lon\":((\"lon\"),lon),\n",
    "              \"time\":((\"time\"),dates)},\n",
    "    \n",
    "    attrs={'Long_name':'HQprecipitation',\n",
    "           'units':'mm',\n",
    "           'title': 'GPM IMERG Early Precipitation L3 1 day 0.1 degree x 0.1 degree (GPM_3IMERGDE)',\n",
    "           'dimensions(sizes)': 'lon(3600), lat(1800), time(1), nv(2)',\n",
    "           'web-site':'https://disc.gsfc.nasa.gov/datasets/GPM_3IMERGDE_06/summary'\n",
    "          })\n"
   ]
  },
  {
   "cell_type": "code",
   "execution_count": 2,
   "id": "eb002468",
   "metadata": {},
   "outputs": [],
   "source": [
    "hq_pre_xr_2002"
   ]
  },
  {
   "cell_type": "code",
   "execution_count": 169,
   "id": "9f6f366b",
   "metadata": {},
   "outputs": [],
   "source": [
    "hq_pre_xr_2002.to_netcdf('HQprecipitation2002.nc',format='NETCDF4')"
   ]
  },
  {
   "cell_type": "code",
   "execution_count": null,
   "id": "34dc4e72",
   "metadata": {},
   "outputs": [],
   "source": []
  }
 ],
 "metadata": {
  "kernelspec": {
   "display_name": "Python 3 (ipykernel)",
   "language": "python",
   "name": "python3"
  },
  "language_info": {
   "codemirror_mode": {
    "name": "ipython",
    "version": 3
   },
   "file_extension": ".py",
   "mimetype": "text/x-python",
   "name": "python",
   "nbconvert_exporter": "python",
   "pygments_lexer": "ipython3",
   "version": "3.9.12"
  }
 },
 "nbformat": 4,
 "nbformat_minor": 5
}
